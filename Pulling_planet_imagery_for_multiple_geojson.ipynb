{
  "cells": [
    {
      "cell_type": "markdown",
      "source": [
        "Tha backbone for this notebook is collected from: \n",
        "\n",
        "https://github.com/planetlabs/notebooks/blob/master/jupyter-notebooks/data-api-tutorials/search_and_download_quickstart.ipynb"
      ],
      "metadata": {
        "id": "xp8FaJFRP2gT"
      },
      "id": "xp8FaJFRP2gT"
    },
    {
      "cell_type": "code",
      "source": [
        "from google.colab import drive\n",
        "drive.mount('/content/drive')"
      ],
      "metadata": {
        "id": "5VsVdGtLo5Qo"
      },
      "id": "5VsVdGtLo5Qo",
      "execution_count": null,
      "outputs": []
    },
    {
      "cell_type": "markdown",
      "source": [
        "# Reading, processing and storing of JSON files"
      ],
      "metadata": {
        "id": "j7Ap0AmTWKUq"
      },
      "id": "j7Ap0AmTWKUq"
    },
    {
      "cell_type": "code",
      "source": [
        "import os\n",
        "import json\n",
        "import requests\n",
        "from requests.auth import HTTPBasicAuth\n",
        "\n",
        "# API Key stored as an env variable\n",
        "PLANET_API_KEY = 'your API key'\n",
        "\n",
        "# Define the file path to the folder containing the GeoJSON files\n",
        "folder_path = 'Your storage path'\n",
        "\n",
        "# Loop through the GeoJSON files in the folder and load their content as dictionaries\n",
        "geojson_data = []\n",
        "for file_name in os.listdir(folder_path):\n",
        "    if file_name.endswith('.json'):\n",
        "        file_path = os.path.join(folder_path, file_name)\n",
        "        with open(file_path, 'r') as f:\n",
        "            data = json.load(f)\n",
        "            #get the type\n",
        "            Type = data['geometryType']\n",
        "            my_list = list(data.values())\n",
        "            geom = my_list[5][0]['geometry']['rings'] #extracting geometry values\n",
        "            new_data = {'type': Type, 'coordinates': geom}\n",
        "            new_data['type'] = new_data['type'].replace('esriGeometryPolygon', 'Polygon') #changing type for planet API\n",
        "            geojson_data.append(new_data) \n"
      ],
      "metadata": {
        "id": "pTJDZdFeWMt7"
      },
      "id": "pTJDZdFeWMt7",
      "execution_count": null,
      "outputs": []
    },
    {
      "cell_type": "code",
      "source": [
        "#Look first element of the geometry list\n",
        "len(geojson_data)"
      ],
      "metadata": {
        "id": "vGmbyDmOz_C5"
      },
      "id": "vGmbyDmOz_C5",
      "execution_count": null,
      "outputs": []
    },
    {
      "cell_type": "markdown",
      "source": [
        "# Creating Filters"
      ],
      "metadata": {
        "id": "TMhOgI_VXNMN"
      },
      "id": "TMhOgI_VXNMN"
    },
    {
      "cell_type": "code",
      "source": [
        "# get images acquired within a date range\n",
        "date_range_filter = {\n",
        "  \"type\": \"DateRangeFilter\",\n",
        "  \"field_name\": \"acquired\",\n",
        "  \"config\": {\n",
        "    \"gte\": \"2016-08-31T00:00:00.000Z\",\n",
        "    \"lte\": \"2016-09-01T00:00:00.000Z\"\n",
        "  }\n",
        "}\n",
        "\n",
        "# only get images which have <50% cloud coverage\n",
        "cloud_cover_filter = {\n",
        "  \"type\": \"RangeFilter\",\n",
        "  \"field_name\": \"cloud_cover\",\n",
        "  \"config\": {\n",
        "    \"lte\": 0.5\n",
        "  }\n",
        "}"
      ],
      "metadata": {
        "id": "yT9boSuiqR7K"
      },
      "id": "yT9boSuiqR7K",
      "execution_count": null,
      "outputs": []
    },
    {
      "cell_type": "code",
      "source": [
        "geom_filter_list =[] #we are making a list as there are more than one geometry filters\n",
        "for geojson_geometry in geojson_data:\n",
        "  geometry_filter = {\n",
        "    \"type\": \"GeometryFilter\",\n",
        "    \"field_name\": \"geometry\",\n",
        "    \"config\": geojson_geometry\n",
        "  }\n",
        "  geom_filter_list.append(geometry_filter)\n"
      ],
      "metadata": {
        "id": "jj1sZcpIpc-k"
      },
      "id": "jj1sZcpIpc-k",
      "execution_count": null,
      "outputs": []
    },
    {
      "cell_type": "code",
      "source": [
        "#look at the first element\n",
        "geom_filter_list[0]"
      ],
      "metadata": {
        "id": "i8l-A1dQtByM"
      },
      "id": "i8l-A1dQtByM",
      "execution_count": null,
      "outputs": []
    },
    {
      "cell_type": "markdown",
      "source": [
        "#Applying filters to prepare search result"
      ],
      "metadata": {
        "id": "T_ZPTBpjXrxi"
      },
      "id": "T_ZPTBpjXrxi"
    },
    {
      "cell_type": "code",
      "source": [
        "item_type = \"PSScene\"\n",
        "PLANET_API_KEY = 'Your API key'\n",
        "collected_geojson = []\n",
        "\n",
        "for geometry_filter in geom_filter_list:\n",
        "  combined_filter = {\n",
        "    \"type\": \"AndFilter\",\n",
        "    \"config\": [geometry_filter, date_range_filter, cloud_cover_filter]\n",
        "  }\n",
        "  search_request = {\n",
        "      \"item_types\": [item_type], \n",
        "       \"filter\": combined_filter\n",
        "        }\n",
        "  search_result = \\\n",
        "      requests.post(\n",
        "     'https://api.planet.com/data/v1/quick-search',\n",
        "      auth=HTTPBasicAuth(PLANET_API_KEY, ''),\n",
        "      json=search_request)\n",
        "  geojson = search_result.json()\n",
        "  collected_geojson.append(geojson)\n"
      ],
      "metadata": {
        "id": "mz6EBZY0p7eM"
      },
      "id": "mz6EBZY0p7eM",
      "execution_count": null,
      "outputs": []
    },
    {
      "cell_type": "markdown",
      "source": [
        "The above steps take time everytime you run the code. Its better to store the geojson and reuse it for future run. That is shown in the following code. Use the pickling step and save your file. Once you save, for the later runs just load the pickles and comment out the pickling part."
      ],
      "metadata": {
        "id": "4jdOslIxQSzV"
      },
      "id": "4jdOslIxQSzV"
    },
    {
      "cell_type": "code",
      "source": [
        "#save the collected jsons to a list for reuse\n",
        "\n",
        "#pickling\n",
        "import pickle\n",
        "with open(\"test\", \"wb\") as fp: \n",
        "  pickle.dump(collected_geojson, fp)\n",
        " \n",
        "#open the pickle\n",
        "with open(\"collected_geojson\", \"rb\") as fp:   # Unpickling\n",
        "  collected_geojson = pickle.load(fp) "
      ],
      "metadata": {
        "id": "bDxpHfEe2km7"
      },
      "id": "bDxpHfEe2km7",
      "execution_count": null,
      "outputs": []
    },
    {
      "cell_type": "code",
      "source": [
        "#Look at the list of collected geojson which we will use later\n",
        "collected_geojson"
      ],
      "metadata": {
        "id": "EJniow9o5LeY"
      },
      "id": "EJniow9o5LeY",
      "execution_count": null,
      "outputs": []
    },
    {
      "cell_type": "code",
      "source": [
        "#lets see the first Item\n",
        "collected_geojson[0]"
      ],
      "metadata": {
        "id": "zjUd6MqN6fQI"
      },
      "id": "zjUd6MqN6fQI",
      "execution_count": null,
      "outputs": []
    },
    {
      "cell_type": "markdown",
      "source": [
        "# Activation & Downloading"
      ],
      "metadata": {
        "id": "DzHqPYHMClJl"
      },
      "id": "DzHqPYHMClJl"
    },
    {
      "cell_type": "code",
      "source": [
        "# Parse out useful links\n",
        "def activation_basic_analytic_4b():\n",
        "  links = result.json()[u\"basic_analytic_4b\"][\"_links\"]\n",
        "  self_link = links[\"_self\"]\n",
        "  activation_link = links[\"activate\"]\n",
        "\n",
        "  # Request activation of the 'basic_analytic_4b' asset:\n",
        "  activate_result = \\\n",
        "    requests.get(\n",
        "      activation_link,\n",
        "      auth=HTTPBasicAuth(PLANET_API_KEY, '')\n",
        "    )\n",
        "  activation_status_result = \\\n",
        "    requests.get(\n",
        "    self_link,\n",
        "    auth=HTTPBasicAuth(PLANET_API_KEY, '')\n",
        "    )\n",
        "    \n",
        "  return activation_status_result.json()[\"location\"]\n",
        "\n",
        "\n",
        "  # Parse out useful links\n",
        "def activation_ortho_analytic_4b():\n",
        "  links = result.json()[u\"ortho_analytic_4b\"][\"_links\"]\n",
        "  self_link = links[\"_self\"]\n",
        "  activation_link = links[\"activate\"]\n",
        "\n",
        "  # Request activation of the 'basic_analytic_4b' asset:\n",
        "  activate_result = \\\n",
        "    requests.get(\n",
        "      activation_link,\n",
        "      auth=HTTPBasicAuth(PLANET_API_KEY, '')\n",
        "    )\n",
        "  activation_status_result = \\\n",
        "    requests.get(\n",
        "    self_link,\n",
        "    auth=HTTPBasicAuth(PLANET_API_KEY, '')\n",
        "    )\n",
        "    \n",
        "  return activation_status_result.json()[\"location\"]"
      ],
      "metadata": {
        "id": "rXKSKtLlBDgW"
      },
      "id": "rXKSKtLlBDgW",
      "execution_count": null,
      "outputs": []
    },
    {
      "cell_type": "markdown",
      "source": [
        "# Downloading different asset types"
      ],
      "metadata": {
        "id": "ZJcjj5dlDrAP"
      },
      "id": "ZJcjj5dlDrAP"
    },
    {
      "cell_type": "code",
      "source": [
        "import os\n",
        "import json\n",
        "import requests\n",
        "from requests.auth import HTTPBasicAuth\n",
        "\n",
        "\n",
        "# API Key stored as an env variable\n",
        "PLANET_API_KEY = 'Your API key'\n",
        "item_type = \"PSScene\"\n",
        "\n",
        "headers = {\"Authorization\": PLANET_API_KEY}"
      ],
      "metadata": {
        "id": "MVnoSlThhD0e"
      },
      "id": "MVnoSlThhD0e",
      "execution_count": null,
      "outputs": []
    },
    {
      "cell_type": "code",
      "source": [
        "#for all asset [making a dictionary]\n",
        "\n",
        "id_url_dict = {}\n",
        "for geojson in collected_geojson[0:100]:\n",
        "    image_ids = [feature['id'] for feature in geojson['features']]\n",
        "    for image_id in image_ids:\n",
        "        id_url_dict[image_id] = []\n",
        "        id_url = 'https://api.planet.com/data/v1/item-types/{}/items/{}/assets'.format(item_type, image_id)\n",
        "        result = requests.get(id_url, auth=HTTPBasicAuth(PLANET_API_KEY, ''))\n",
        "        try:\n",
        "          link_1 = activation_basic_analytic_4b()\n",
        "          link_2 = activation_ortho_analytic_4b()\n",
        "          id_url_dict[image_id] = [link_1, link_2]\n",
        "        except :\n",
        "          print(\"asset not available\")\n",
        "        "
      ],
      "metadata": {
        "id": "Z9CixUYmim9a"
      },
      "id": "Z9CixUYmim9a",
      "execution_count": null,
      "outputs": []
    },
    {
      "cell_type": "code",
      "source": [
        "id_url_dict"
      ],
      "metadata": {
        "id": "iugigDJkSqj6"
      },
      "id": "iugigDJkSqj6",
      "execution_count": null,
      "outputs": []
    },
    {
      "cell_type": "markdown",
      "source": [
        "# Dump the links to an Excel file"
      ],
      "metadata": {
        "id": "cG4Jmag5K4Sh"
      },
      "id": "cG4Jmag5K4Sh"
    },
    {
      "cell_type": "code",
      "source": [
        "import pandas as pd\n",
        "\n",
        "df = pd.DataFrame.from_dict(id_url_dict, orient=\"index\")\n",
        "df.to_csv(\"dl_links.csv\", header=[\"Download Link for Basic Analytic\", \"Download Link for Ortho Analytic\"])\n"
      ],
      "metadata": {
        "id": "-nz2Abpp03gz"
      },
      "id": "-nz2Abpp03gz",
      "execution_count": null,
      "outputs": []
    }
  ],
  "metadata": {
    "kernelspec": {
      "display_name": "Python 3",
      "language": "python",
      "name": "python3"
    },
    "language_info": {
      "codemirror_mode": {
        "name": "ipython",
        "version": 3
      },
      "file_extension": ".py",
      "mimetype": "text/x-python",
      "name": "python",
      "nbconvert_exporter": "python",
      "pygments_lexer": "ipython3",
      "version": "3.9.11"
    },
    "colab": {
      "provenance": []
    }
  },
  "nbformat": 4,
  "nbformat_minor": 5
}